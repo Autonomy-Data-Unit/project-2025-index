{
 "cells": [
  {
   "cell_type": "code",
   "execution_count": null,
   "id": "9a89ca57-ee24-43b6-9686-8498340504a0",
   "metadata": {},
   "outputs": [],
   "source": [
    "import json\n",
    "from typing import List\n",
    "from sentence_transformers import SentenceTransformer\n",
    "import lancedb\n",
    "from lancedb.pydantic import LanceModel, Vector\n",
    "from lancedb.embeddings import get_registry\n",
    "import os\n",
    "import shutil"
   ]
  },
  {
   "cell_type": "code",
   "execution_count": null,
   "id": "7ea8f255-1a88-4e23-b502-a6b400a25bb2",
   "metadata": {},
   "outputs": [],
   "source": [
    "with open('../data/index_items.json', 'r') as file:\n",
    "    entities = json.load(file)"
   ]
  },
  {
   "cell_type": "code",
   "execution_count": null,
   "id": "11def6b2-47ae-424d-9d0e-a1c862ef7e63",
   "metadata": {},
   "outputs": [],
   "source": [
    "lancedb_path = \"../.lancedb\""
   ]
  },
  {
   "cell_type": "markdown",
   "id": "b0e8e727-d9f0-481b-b6d0-99f78f2ca799",
   "metadata": {},
   "source": [
    "Delete the .lancedb folder before running the code:"
   ]
  },
  {
   "cell_type": "code",
   "execution_count": null,
   "id": "502761ac-f0df-4716-ae62-ca240b0a6164",
   "metadata": {},
   "outputs": [],
   "source": [
    "if os.path.exists(lancedb_path) and os.path.isdir(lancedb_path):\n",
    "    # Remove the directory and all its contents\n",
    "    shutil.rmtree(lancedb_path)\n",
    "    print(f\"The directory '{lancedb_path}' has been removed.\")\n",
    "else:\n",
    "    print(f\"The directory '{lancedb_path}' does not exist.\")"
   ]
  },
  {
   "cell_type": "code",
   "execution_count": null,
   "id": "c22d0842-9dcb-40cb-9c4c-e1c85f0ffa20",
   "metadata": {},
   "outputs": [],
   "source": [
    "db = lancedb.connect(lancedb_path)\n",
    "title_model = get_registry().get(\"sentence-transformers\").create(name=\"BAAI/bge-small-en-v1.5\", device=\"cpu\")\n",
    "summary_model = get_registry().get(\"sentence-transformers\").create(name=\"BAAI/bge-small-en-v1.5\", device=\"cpu\")"
   ]
  },
  {
   "cell_type": "code",
   "execution_count": null,
   "id": "09cdca90-eded-48b2-8a4f-05b1db721123",
   "metadata": {},
   "outputs": [],
   "source": [
    "class Words(LanceModel):\n",
    "    title: str = title_model.SourceField()\n",
    "    title_vector: Vector(title_model.ndims()) = title_model.VectorField() \n",
    "    summary: str = summary_model.SourceField()\n",
    "    summary_vector: Vector(summary_model.ndims()) = summary_model.VectorField() \n",
    "    section: str\n",
    "    page: int\n",
    "    wiki: bool\n",
    "    title_index: int\n",
    "    instance_of: List[str]\n",
    "    wikipedia_url: str\n",
    "    wikidata_id: str"
   ]
  },
  {
   "cell_type": "code",
   "execution_count": null,
   "id": "e9eebc89-2400-4302-a2bb-9ea4e15ae366",
   "metadata": {},
   "outputs": [],
   "source": [
    "entity_table = db.create_table(\"entities\", schema=Words)\n",
    "entity_table.add(\n",
    "    entities\n",
    ")"
   ]
  },
  {
   "cell_type": "markdown",
   "id": "a8a5384c-94fd-4cf4-9f9f-f5bf8997c140",
   "metadata": {},
   "source": [
    "### Load"
   ]
  },
  {
   "cell_type": "code",
   "execution_count": null,
   "id": "c5d4e515-a75d-4245-a393-a8eacf085b06",
   "metadata": {},
   "outputs": [],
   "source": [
    "db = lancedb.connect(lancedb_path)"
   ]
  },
  {
   "cell_type": "code",
   "execution_count": null,
   "id": "768849b5-7762-4c66-a59d-41902578e98f",
   "metadata": {},
   "outputs": [],
   "source": [
    "table = db.open_table(\"entities\")"
   ]
  },
  {
   "cell_type": "code",
   "execution_count": null,
   "id": "5a6cc428-3601-4f0e-a37f-a973f6f3d9a2",
   "metadata": {},
   "outputs": [],
   "source": []
  }
 ],
 "metadata": {
  "kernelspec": {
   "display_name": "Python 3 (ipykernel)",
   "language": "python",
   "name": "python3"
  },
  "language_info": {
   "codemirror_mode": {
    "name": "ipython",
    "version": 3
   },
   "file_extension": ".py",
   "mimetype": "text/x-python",
   "name": "python",
   "nbconvert_exporter": "python",
   "pygments_lexer": "ipython3",
   "version": "3.10.14"
  }
 },
 "nbformat": 4,
 "nbformat_minor": 5
}
